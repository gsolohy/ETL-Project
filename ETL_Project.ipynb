{
 "cells": [
  {
   "cell_type": "markdown",
   "metadata": {},
   "source": [
    "## Data Cleaning"
   ]
  },
  {
   "cell_type": "code",
   "execution_count": 1,
   "metadata": {},
   "outputs": [
    {
     "name": "stdout",
     "output_type": "stream",
     "text": [
      "description    20\n",
      "dtype: int64\n",
      "      description\n",
      "38484         NaN\n",
      "38526         NaN\n",
      "38689         NaN\n",
      "38729         NaN\n",
      "38892         NaN\n",
      "38932         NaN\n",
      "39096         NaN\n",
      "39136         NaN\n",
      "39302         NaN\n",
      "39339         NaN\n",
      "39506         NaN\n",
      "39543         NaN\n",
      "39709         NaN\n",
      "39744         NaN\n",
      "39916         NaN\n",
      "40125         NaN\n",
      "40325         NaN\n",
      "40538         NaN\n",
      "40739         NaN\n",
      "40945         NaN\n"
     ]
    }
   ],
   "source": [
    "import pandas as pd\n",
    "import datetime as dt\n",
    "\n",
    "USvideos_data = pd.read_csv('Resources/USvideos.zip')\n",
    "CAvideos_data = pd.read_csv('Resources/CAvideos.zip')\n",
    "\n",
    "# Add country column\n",
    "USvideos_data['country'] = 'USA'\n",
    "CAvideos_data['country'] = 'Canada'\n",
    "\n",
    "# Convert 'trending_date' column datatype from object to datetime\n",
    "USvideos_data['trending_date'] = '20'+ USvideos_data['trending_date']\n",
    "USvideos_data['trending_date'] = USvideos_data['trending_date'].str.replace('.','-')\n",
    "USvideos_data['trending_date'] = USvideos_data['trending_date'].apply(lambda x: dt.datetime.strptime(x,'%Y-%d-%m'))\n",
    "\n",
    "CAvideos_data['trending_date'] = '20'+ CAvideos_data['trending_date']\n",
    "CAvideos_data['trending_date'] = CAvideos_data['trending_date'].str.replace('.','-')\n",
    "CAvideos_data['trending_date'] = CAvideos_data['trending_date'].apply(lambda x: dt.datetime.strptime(x,'%Y-%d-%m'))\n",
    "\n",
    "# Set Data Range: 2018 June trending data is the latest data available at this moment\n",
    "date_rangeUS = (USvideos_data['trending_date'] > '2018-06-01') & (USvideos_data['trending_date'] <= '2018-06-30')\n",
    "USvideos_data = USvideos_data.loc[date_rangeUS]\n",
    "\n",
    "date_rangeCA = (CAvideos_data['trending_date'] > '2018-06-01') & (CAvideos_data['trending_date'] <= '2018-06-30')\n",
    "CAvideos_data = CAvideos_data.loc[date_rangeCA]\n",
    "\n",
    "# Find & Count the null columns\n",
    "null_columns = USvideos_data.columns[USvideos_data.isnull().any()]\n",
    "print(USvideos_data[null_columns].isnull().sum())\n",
    "\n",
    "# Locate and inspect null values within data\n",
    "print(USvideos_data[USvideos_data.isnull().any(axis=1)][null_columns])"
   ]
  },
  {
   "cell_type": "code",
   "execution_count": 2,
   "metadata": {},
   "outputs": [],
   "source": [
    "# Complete the null data value\n",
    "datatype_USVideos = USvideos_data.dtypes.to_dict()\n",
    "USvideos_data['description'].fillna('None', inplace=True, downcast=datatype_USVideos)\n",
    "\n",
    "datatype_CAVideos = USvideos_data.dtypes.to_dict()\n",
    "CAvideos_data['description'].fillna('None', inplace=True, downcast=datatype_CAVideos)"
   ]
  },
  {
   "cell_type": "code",
   "execution_count": 3,
   "metadata": {},
   "outputs": [],
   "source": [
    "# Export and backup cleaned data\n",
    "export_USvideos = USvideos_data.to_csv('Output/USvideos_clean.csv')\n",
    "export_CAvideos = CAvideos_data.to_csv('Output/CAvideos_clean.csv')"
   ]
  },
  {
   "cell_type": "code",
   "execution_count": 4,
   "metadata": {},
   "outputs": [],
   "source": [
    "# Combine two dataset\n",
    "combine_df = pd.merge(USvideos_data,CAvideos_data, how='outer')\n",
    "\n",
    "# Load file with category name data\n",
    "category_idname = pd.read_csv('Resources/YT_Category_idname.csv', header=None)\n",
    "category_idname.columns = ['category_id','category_name']\n",
    "\n",
    "# Combine data\n",
    "combine_df = combine_df.merge(category_idname, how='left', on='category_id')\n",
    "# Convert publish_time as date\n",
    "combine_df['publish_time'] = pd.to_datetime(combine_df['publish_time'])\n",
    "combine_df['publish_time'] = combine_df['publish_time'].dt.date\n",
    "\n",
    "# Drop unnecessary columns\n",
    "combine_df.drop(columns=['comments_disabled','ratings_disabled','video_error_or_removed'], inplace=True)"
   ]
  },
  {
   "cell_type": "code",
   "execution_count": 5,
   "metadata": {},
   "outputs": [],
   "source": [
    "# Export and backup cleaned data\n",
    "export_combined = combine_df.to_csv('Output/Combined_data.csv')"
   ]
  },
  {
   "cell_type": "markdown",
   "metadata": {},
   "source": [
    "## Export Data for postgreSQL database"
   ]
  },
  {
   "cell_type": "code",
   "execution_count": 6,
   "metadata": {},
   "outputs": [
    {
     "name": "stdout",
     "output_type": "stream",
     "text": [
      "4117\n"
     ]
    },
    {
     "data": {
      "text/html": [
       "<div>\n",
       "<style scoped>\n",
       "    .dataframe tbody tr th:only-of-type {\n",
       "        vertical-align: middle;\n",
       "    }\n",
       "\n",
       "    .dataframe tbody tr th {\n",
       "        vertical-align: top;\n",
       "    }\n",
       "\n",
       "    .dataframe thead th {\n",
       "        text-align: right;\n",
       "    }\n",
       "</style>\n",
       "<table border=\"1\" class=\"dataframe\">\n",
       "  <thead>\n",
       "    <tr style=\"text-align: right;\">\n",
       "      <th></th>\n",
       "      <th>video_id</th>\n",
       "      <th>trending_date</th>\n",
       "      <th>title</th>\n",
       "      <th>channel_title</th>\n",
       "      <th>category_id</th>\n",
       "      <th>publish_time</th>\n",
       "      <th>tags</th>\n",
       "      <th>views</th>\n",
       "      <th>likes</th>\n",
       "      <th>dislikes</th>\n",
       "      <th>comment_count</th>\n",
       "      <th>thumbnail_link</th>\n",
       "      <th>description</th>\n",
       "      <th>country</th>\n",
       "      <th>category_name</th>\n",
       "    </tr>\n",
       "  </thead>\n",
       "  <tbody>\n",
       "    <tr>\n",
       "      <th>1026</th>\n",
       "      <td>-0CMnp02rNY</td>\n",
       "      <td>2018-06-07</td>\n",
       "      <td>Mindy Kaling's Daughter Had the Perfect Reacti...</td>\n",
       "      <td>TheEllenShow</td>\n",
       "      <td>24</td>\n",
       "      <td>2018-06-04</td>\n",
       "      <td>ellen|\"ellen degeneres\"|\"the ellen show\"|\"elle...</td>\n",
       "      <td>605506</td>\n",
       "      <td>7848</td>\n",
       "      <td>232</td>\n",
       "      <td>354</td>\n",
       "      <td>https://i.ytimg.com/vi/-0CMnp02rNY/default.jpg</td>\n",
       "      <td>Ocean's 8 star Mindy Kaling dished on bringing...</td>\n",
       "      <td>USA</td>\n",
       "      <td>Entertainment</td>\n",
       "    </tr>\n",
       "    <tr>\n",
       "      <th>1658</th>\n",
       "      <td>-0CMnp02rNY</td>\n",
       "      <td>2018-06-10</td>\n",
       "      <td>Mindy Kaling's Daughter Had the Perfect Reacti...</td>\n",
       "      <td>TheEllenShow</td>\n",
       "      <td>24</td>\n",
       "      <td>2018-06-04</td>\n",
       "      <td>ellen|\"ellen degeneres\"|\"the ellen show\"|\"elle...</td>\n",
       "      <td>792613</td>\n",
       "      <td>9720</td>\n",
       "      <td>330</td>\n",
       "      <td>413</td>\n",
       "      <td>https://i.ytimg.com/vi/-0CMnp02rNY/default.jpg</td>\n",
       "      <td>Ocean's 8 star Mindy Kaling dished on bringing...</td>\n",
       "      <td>USA</td>\n",
       "      <td>Entertainment</td>\n",
       "    </tr>\n",
       "    <tr>\n",
       "      <th>820</th>\n",
       "      <td>-0CMnp02rNY</td>\n",
       "      <td>2018-06-06</td>\n",
       "      <td>Mindy Kaling's Daughter Had the Perfect Reacti...</td>\n",
       "      <td>TheEllenShow</td>\n",
       "      <td>24</td>\n",
       "      <td>2018-06-04</td>\n",
       "      <td>ellen|\"ellen degeneres\"|\"the ellen show\"|\"elle...</td>\n",
       "      <td>475965</td>\n",
       "      <td>6531</td>\n",
       "      <td>172</td>\n",
       "      <td>271</td>\n",
       "      <td>https://i.ytimg.com/vi/-0CMnp02rNY/default.jpg</td>\n",
       "      <td>Ocean's 8 star Mindy Kaling dished on bringing...</td>\n",
       "      <td>USA</td>\n",
       "      <td>Entertainment</td>\n",
       "    </tr>\n",
       "    <tr>\n",
       "      <th>1859</th>\n",
       "      <td>-0CMnp02rNY</td>\n",
       "      <td>2018-06-11</td>\n",
       "      <td>Mindy Kaling's Daughter Had the Perfect Reacti...</td>\n",
       "      <td>TheEllenShow</td>\n",
       "      <td>24</td>\n",
       "      <td>2018-06-04</td>\n",
       "      <td>ellen|\"ellen degeneres\"|\"the ellen show\"|\"elle...</td>\n",
       "      <td>800359</td>\n",
       "      <td>9773</td>\n",
       "      <td>332</td>\n",
       "      <td>423</td>\n",
       "      <td>https://i.ytimg.com/vi/-0CMnp02rNY/default.jpg</td>\n",
       "      <td>Ocean's 8 star Mindy Kaling dished on bringing...</td>\n",
       "      <td>USA</td>\n",
       "      <td>Entertainment</td>\n",
       "    </tr>\n",
       "  </tbody>\n",
       "</table>\n",
       "</div>"
      ],
      "text/plain": [
       "         video_id trending_date  \\\n",
       "1026  -0CMnp02rNY    2018-06-07   \n",
       "1658  -0CMnp02rNY    2018-06-10   \n",
       "820   -0CMnp02rNY    2018-06-06   \n",
       "1859  -0CMnp02rNY    2018-06-11   \n",
       "\n",
       "                                                  title channel_title  \\\n",
       "1026  Mindy Kaling's Daughter Had the Perfect Reacti...  TheEllenShow   \n",
       "1658  Mindy Kaling's Daughter Had the Perfect Reacti...  TheEllenShow   \n",
       "820   Mindy Kaling's Daughter Had the Perfect Reacti...  TheEllenShow   \n",
       "1859  Mindy Kaling's Daughter Had the Perfect Reacti...  TheEllenShow   \n",
       "\n",
       "      category_id publish_time  \\\n",
       "1026           24   2018-06-04   \n",
       "1658           24   2018-06-04   \n",
       "820            24   2018-06-04   \n",
       "1859           24   2018-06-04   \n",
       "\n",
       "                                                   tags   views  likes  \\\n",
       "1026  ellen|\"ellen degeneres\"|\"the ellen show\"|\"elle...  605506   7848   \n",
       "1658  ellen|\"ellen degeneres\"|\"the ellen show\"|\"elle...  792613   9720   \n",
       "820   ellen|\"ellen degeneres\"|\"the ellen show\"|\"elle...  475965   6531   \n",
       "1859  ellen|\"ellen degeneres\"|\"the ellen show\"|\"elle...  800359   9773   \n",
       "\n",
       "      dislikes  comment_count                                  thumbnail_link  \\\n",
       "1026       232            354  https://i.ytimg.com/vi/-0CMnp02rNY/default.jpg   \n",
       "1658       330            413  https://i.ytimg.com/vi/-0CMnp02rNY/default.jpg   \n",
       "820        172            271  https://i.ytimg.com/vi/-0CMnp02rNY/default.jpg   \n",
       "1859       332            423  https://i.ytimg.com/vi/-0CMnp02rNY/default.jpg   \n",
       "\n",
       "                                            description country  category_name  \n",
       "1026  Ocean's 8 star Mindy Kaling dished on bringing...     USA  Entertainment  \n",
       "1658  Ocean's 8 star Mindy Kaling dished on bringing...     USA  Entertainment  \n",
       "820   Ocean's 8 star Mindy Kaling dished on bringing...     USA  Entertainment  \n",
       "1859  Ocean's 8 star Mindy Kaling dished on bringing...     USA  Entertainment  "
      ]
     },
     "execution_count": 6,
     "metadata": {},
     "output_type": "execute_result"
    }
   ],
   "source": [
    "# Inspect duplicates for ERD ideas\n",
    "find_dupe = combine_df[combine_df.duplicated(['video_id'],keep=False)]\n",
    "print(find_dupe.video_id.count())\n",
    "find_dupe.sort_values(['video_id']).head(4)"
   ]
  },
  {
   "cell_type": "code",
   "execution_count": 7,
   "metadata": {},
   "outputs": [
    {
     "data": {
      "text/plain": [
       "Index(['video_id', 'trending_date', 'title', 'channel_title', 'category_id',\n",
       "       'publish_time', 'tags', 'views', 'likes', 'dislikes', 'comment_count',\n",
       "       'thumbnail_link', 'description', 'country', 'category_name'],\n",
       "      dtype='object')"
      ]
     },
     "execution_count": 7,
     "metadata": {},
     "output_type": "execute_result"
    }
   ],
   "source": [
    "find_dupe.columns"
   ]
  },
  {
   "cell_type": "code",
   "execution_count": 8,
   "metadata": {},
   "outputs": [
    {
     "name": "stderr",
     "output_type": "stream",
     "text": [
      "C:\\Users\\hjyoo\\Anaconda3\\lib\\site-packages\\ipykernel_launcher.py:4: SettingWithCopyWarning: \n",
      "A value is trying to be set on a copy of a slice from a DataFrame.\n",
      "Try using .loc[row_indexer,col_indexer] = value instead\n",
      "\n",
      "See the caveats in the documentation: http://pandas.pydata.org/pandas-docs/stable/user_guide/indexing.html#returning-a-view-versus-a-copy\n",
      "  after removing the cwd from sys.path.\n"
     ]
    }
   ],
   "source": [
    "video_basics = combine_df[['trending_date','title','channel_title','category_id','views','likes','publish_time']]\n",
    "\n",
    "video_stats = combine_df[['video_id','tags','dislikes','comment_count','thumbnail_link','description','country']]\n",
    "video_stats['country'] = video_stats['country'].replace({'USA':0,'Canada':1})\n",
    "video_stats = video_stats[['video_id','dislikes','comment_count','tags','thumbnail_link','description','country']]\n",
    "\n",
    "country_id = pd.DataFrame({'country_id':[0,1],'country_name':['USA','Canada']})"
   ]
  },
  {
   "cell_type": "code",
   "execution_count": 9,
   "metadata": {},
   "outputs": [],
   "source": [
    "trend_id = combine_df['trending_date'].value_counts().to_frame().reset_index().drop(columns='trending_date')\\\n",
    "            .rename(columns={'index':'trending_date'}).sort_values('trending_date').reset_index(drop=True)\n",
    "trend_id = trend_id.reset_index()\n",
    "trend_id.rename(columns={'index':'trend_id'},inplace=True)"
   ]
  },
  {
   "cell_type": "code",
   "execution_count": 10,
   "metadata": {},
   "outputs": [],
   "source": [
    "publish_id = combine_df['publish_time'].value_counts().to_frame().reset_index().drop(columns='publish_time')\\\n",
    "                .rename(columns={'index':'publish_time'}).sort_values('publish_time').reset_index(drop=True)\n",
    "publish_id.reset_index(inplace=True)\n",
    "publish_id.rename(columns={'index':'publish_id'},inplace=True)"
   ]
  },
  {
   "cell_type": "code",
   "execution_count": 11,
   "metadata": {},
   "outputs": [],
   "source": [
    "channel_id = combine_df['channel_title'].value_counts().to_frame().reset_index().drop(columns='channel_title')\\\n",
    "                .rename(columns={'index':'channel_title'}).sort_values('channel_title').reset_index(drop=True)\n",
    "channel_id.reset_index(inplace=True)\n",
    "channel_id.rename(columns={'index':'channel_id'},inplace=True)"
   ]
  },
  {
   "cell_type": "code",
   "execution_count": 12,
   "metadata": {},
   "outputs": [],
   "source": [
    "video_basics = trend_id.merge(video_basics,how='left').drop(columns='trending_date')\n",
    "video_basics = video_basics.merge(publish_id,how='left').drop(columns='publish_time')\n",
    "video_basics = channel_id.merge(video_basics,how='left').drop(columns='channel_title')"
   ]
  },
  {
   "cell_type": "code",
   "execution_count": 13,
   "metadata": {},
   "outputs": [],
   "source": [
    "video_basics = video_basics[['trend_id','title','channel_id','category_id','publish_id','views','likes']]"
   ]
  },
  {
   "cell_type": "code",
   "execution_count": 14,
   "metadata": {},
   "outputs": [],
   "source": [
    "video_basics = video_basics.sort_values('title').reset_index(drop=True)"
   ]
  },
  {
   "cell_type": "code",
   "execution_count": 15,
   "metadata": {},
   "outputs": [],
   "source": [
    "exp_sql_v_basics = video_basics.to_csv('SQL_Resources/Video_basic.csv',index=False)\n",
    "exp_sql_v_stats = video_stats.to_csv('SQL_Resources/Video_stat.csv',index=False)\n",
    "exp_sql_ctgry_id = category_idname.to_csv('SQL_Resources/Category.csv',index=False)\n",
    "exp_sql_ctry_id = country_id.to_csv('SQL_Resources/Country.csv',index=False)\n",
    "exp_sql_trnd_id = trend_id.to_csv('SQL_Resources/Trend.csv',index=False)\n",
    "exp_sql_pub_id = publish_id.to_csv('SQL_Resources/Publish.csv',index=False)\n",
    "exp_sql_title_id = channel_id.to_csv('SQL_Resources/Channel.csv',index=False)"
   ]
  },
  {
   "cell_type": "code",
   "execution_count": null,
   "metadata": {},
   "outputs": [],
   "source": []
  }
 ],
 "metadata": {
  "kernelspec": {
   "display_name": "Python 3",
   "language": "python",
   "name": "python3"
  },
  "language_info": {
   "codemirror_mode": {
    "name": "ipython",
    "version": 3
   },
   "file_extension": ".py",
   "mimetype": "text/x-python",
   "name": "python",
   "nbconvert_exporter": "python",
   "pygments_lexer": "ipython3",
   "version": "3.7.5"
  }
 },
 "nbformat": 4,
 "nbformat_minor": 4
}
